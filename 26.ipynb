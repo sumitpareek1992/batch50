{
 "cells": [
  {
   "cell_type": "code",
   "execution_count": 1,
   "metadata": {
    "collapsed": true
   },
   "outputs": [],
   "source": [
    "# name,age,hight,hight-> insert into  customer(name,age,hight) values"
   ]
  },
  {
   "cell_type": "code",
   "execution_count": 4,
   "metadata": {},
   "outputs": [
    {
     "ename": "SyntaxError",
     "evalue": "EOL while scanning string literal (<ipython-input-4-2b12ca0bfdf0>, line 2)",
     "output_type": "error",
     "traceback": [
      "\u001b[1;36m  File \u001b[1;32m\"<ipython-input-4-2b12ca0bfdf0>\"\u001b[1;36m, line \u001b[1;32m2\u001b[0m\n\u001b[1;33m    print \"'hello', I am in \\\"hydrabad\\\"\u001b[0m\n\u001b[1;37m                                       ^\u001b[0m\n\u001b[1;31mSyntaxError\u001b[0m\u001b[1;31m:\u001b[0m EOL while scanning string literal\n"
     ]
    }
   ],
   "source": [
    "# 'hello' I am in \"hyderabad\"\n",
    "print \"'hello', I am in \\\"hydrabad\\\""
   ]
  },
  {
   "cell_type": "code",
   "execution_count": 5,
   "metadata": {},
   "outputs": [
    {
     "name": "stdout",
     "output_type": "stream",
     "text": [
      "line1\tline2\n",
      "dsf\n",
      "sdfsd\tnsdsfd\n",
      "sdf\\sfdf\n"
     ]
    }
   ],
   "source": [
    "print'line1\\tline2\\ndsf\\nsdfsd\\tnsdsfd\\nsdf\\sfdf'"
   ]
  },
  {
   "cell_type": "code",
   "execution_count": 7,
   "metadata": {},
   "outputs": [
    {
     "name": "stdout",
     "output_type": "stream",
     "text": [
      "line1\\tline2\\ndsf\\nsdfsd\\tnsdsfd\\nsdf\\sfdf\n"
     ]
    }
   ],
   "source": [
    "print r'line1\\tline2\\ndsf\\nsdfsd\\tnsdsfd\\nsdf\\sfdf'"
   ]
  },
  {
   "cell_type": "code",
   "execution_count": 8,
   "metadata": {},
   "outputs": [
    {
     "name": "stdout",
     "output_type": "stream",
     "text": [
      "person name:%s, Weight:%D, height:%2f\n"
     ]
    }
   ],
   "source": [
    "# person Name:anil kumar,weight ,height:5.67\n",
    "name=\"anil kumar\"\n",
    "weight=34.256\n",
    "height=56.264\n",
    "print \"person name:%s, Weight:%D, height:%2f\"%"
   ]
  },
  {
   "cell_type": "code",
   "execution_count": 1,
   "metadata": {},
   "outputs": [
    {
     "name": "stdout",
     "output_type": "stream",
     "text": [
      "insert into customer(name, age, height) values ('anil kumar',23,5.6)\n",
      "insert into customer(name, age, height) values ('anil kumar',23,5.6)\n"
     ]
    }
   ],
   "source": [
    "name=\"anil kumar\"\n",
    "age=23\n",
    "height=5.6\n",
    "print \"insert into customer(name, age, height) values ('\"+name+\"',\"+str(age)+\",\"+str(height)+\")\"\n",
    "print \"insert into customer(name, age, height) values ('%s',%s,%s)\"%(name,age,height)"
   ]
  },
  {
   "cell_type": "code",
   "execution_count": 2,
   "metadata": {},
   "outputs": [
    {
     "name": "stdout",
     "output_type": "stream",
     "text": [
      "insert into customer(name, age, height) values (name,str(age),str(height))\n",
      "insert into customer(name, age, height) values ('anil kumar',23,5.6)\n"
     ]
    }
   ],
   "source": [
    "name=\"anil kumar\"\n",
    "age=23\n",
    "height=5.6\n",
    "print 'insert into customer(name, age, height) values (name,str(age),str(height))'\n",
    "print \"insert into customer(name, age, height) values ('%s',%s,%s)\"%(name,age,height)"
   ]
  },
  {
   "cell_type": "code",
   "execution_count": 6,
   "metadata": {
    "scrolled": true
   },
   "outputs": [
    {
     "name": "stdout",
     "output_type": "stream",
     "text": [
      "Enter username:1\n",
      "Enter password:2\n",
      " given username: 1\n",
      "given password: 2\n"
     ]
    }
   ],
   "source": [
    "user=raw_input(\"Enter username:\")\n",
    "pw = raw_input(\"Enter password:\")\n",
    "print \"given username:\",user\n",
    "print \"given password:\",pw"
   ]
  },
  {
   "cell_type": "code",
   "execution_count": 10,
   "metadata": {},
   "outputs": [
    {
     "name": "stdout",
     "output_type": "stream",
     "text": [
      "enter vaalue of a:1\n",
      "enter the value of b:1\n",
      "enter the value of c:1\n",
      "enter the value of d:1\n"
     ]
    },
    {
     "ename": "TypeError",
     "evalue": "%d format: a number is required, not str",
     "output_type": "error",
     "traceback": [
      "\u001b[1;31m---------------------------------------------------------------------------\u001b[0m",
      "\u001b[1;31mTypeError\u001b[0m                                 Traceback (most recent call last)",
      "\u001b[1;32m<ipython-input-10-3c7b17104940>\u001b[0m in \u001b[0;36m<module>\u001b[1;34m()\u001b[0m\n\u001b[0;32m      3\u001b[0m \u001b[0mc\u001b[0m\u001b[1;33m=\u001b[0m \u001b[0mraw_input\u001b[0m\u001b[1;33m(\u001b[0m\u001b[1;34m\"enter the value of c:\"\u001b[0m\u001b[1;33m)\u001b[0m\u001b[1;33m\u001b[0m\u001b[0m\n\u001b[0;32m      4\u001b[0m \u001b[0md\u001b[0m\u001b[1;33m=\u001b[0m \u001b[0mraw_input\u001b[0m\u001b[1;33m(\u001b[0m\u001b[1;34m\"enter the value of d:\"\u001b[0m\u001b[1;33m)\u001b[0m\u001b[1;33m\u001b[0m\u001b[0m\n\u001b[1;32m----> 5\u001b[1;33m \u001b[1;32mprint\u001b[0m \u001b[1;34m\"enter the number((a+b)**2,{c+d}**2) values ( %d,%d,%d,%d)\"\u001b[0m\u001b[1;33m%\u001b[0m\u001b[1;33m(\u001b[0m\u001b[0ma\u001b[0m\u001b[1;33m,\u001b[0m\u001b[0mb\u001b[0m\u001b[1;33m,\u001b[0m\u001b[0mc\u001b[0m\u001b[1;33m,\u001b[0m\u001b[0md\u001b[0m\u001b[1;33m)\u001b[0m\u001b[1;33m\u001b[0m\u001b[0m\n\u001b[0m",
      "\u001b[1;31mTypeError\u001b[0m: %d format: a number is required, not str"
     ]
    }
   ],
   "source": [
    "a= raw_input(\"enter vaalue of a:\")\n",
    "b= raw_input(\"enter the value of b:\")\n",
    "c= raw_input(\"enter the value of c:\")\n",
    "d= raw_input(\"enter the value of d:\")\n",
    "\n",
    "print \"enter the number((a+b)**2,{c+d}**2) values ( %d,%d,%d,%d)\"%(a,b,c,d)             "
   ]
  },
  {
   "cell_type": "code",
   "execution_count": null,
   "metadata": {},
   "outputs": [],
   "source": [
    "# take two no from user a and b check whether a is divisible by b or not\n",
    "a=float(raw_input(\"enter value of a\"))\n",
    "b=float(raw_input(\"enter value of b\"))\n",
    "if a/b==int:\n",
    "    print \"a is divisible by b\"\n",
    "else :\n",
    "    print \"a is not divisible by b\""
   ]
  },
  {
   "cell_type": "code",
   "execution_count": null,
   "metadata": {
    "collapsed": true
   },
   "outputs": [],
   "source": []
  }
 ],
 "metadata": {
  "kernelspec": {
   "display_name": "Python 2",
   "language": "python",
   "name": "python2"
  },
  "language_info": {
   "codemirror_mode": {
    "name": "ipython",
    "version": 2
   },
   "file_extension": ".py",
   "mimetype": "text/x-python",
   "name": "python",
   "nbconvert_exporter": "python",
   "pygments_lexer": "ipython2",
   "version": "2.7.14"
  }
 },
 "nbformat": 4,
 "nbformat_minor": 2
}
