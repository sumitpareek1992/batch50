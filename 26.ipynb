{
 "cells": [
  {
   "cell_type": "code",
   "execution_count": 1,
   "metadata": {
    "collapsed": true
   },
   "outputs": [],
   "source": [
    "# name,age,hight,hight-> insert into  customer(name,age,hight) values"
   ]
  },
  {
   "cell_type": "code",
   "execution_count": 4,
   "metadata": {},
   "outputs": [
    {
     "ename": "SyntaxError",
     "evalue": "EOL while scanning string literal (<ipython-input-4-2b12ca0bfdf0>, line 2)",
     "output_type": "error",
     "traceback": [
      "\u001b[1;36m  File \u001b[1;32m\"<ipython-input-4-2b12ca0bfdf0>\"\u001b[1;36m, line \u001b[1;32m2\u001b[0m\n\u001b[1;33m    print \"'hello', I am in \\\"hydrabad\\\"\u001b[0m\n\u001b[1;37m                                       ^\u001b[0m\n\u001b[1;31mSyntaxError\u001b[0m\u001b[1;31m:\u001b[0m EOL while scanning string literal\n"
     ]
    }
   ],
   "source": [
    "# 'hello' I am in \"hyderabad\"\n",
    "print \"'hello', I am in \\\"hydrabad\\\""
   ]
  },
  {
   "cell_type": "code",
   "execution_count": 5,
   "metadata": {},
   "outputs": [
    {
     "name": "stdout",
     "output_type": "stream",
     "text": [
      "line1\tline2\n",
      "dsf\n",
      "sdfsd\tnsdsfd\n",
      "sdf\\sfdf\n"
     ]
    }
   ],
   "source": [
    "print'line1\\tline2\\ndsf\\nsdfsd\\tnsdsfd\\nsdf\\sfdf'"
   ]
  },
  {
   "cell_type": "code",
   "execution_count": 7,
   "metadata": {},
   "outputs": [
    {
     "name": "stdout",
     "output_type": "stream",
     "text": [
      "line1\\tline2\\ndsf\\nsdfsd\\tnsdsfd\\nsdf\\sfdf\n"
     ]
    }
   ],
   "source": [
    "print r'line1\\tline2\\ndsf\\nsdfsd\\tnsdsfd\\nsdf\\sfdf'"
   ]
  },
  {
   "cell_type": "code",
   "execution_count": 8,
   "metadata": {},
   "outputs": [
    {
     "name": "stdout",
     "output_type": "stream",
     "text": [
      "person name:%s, Weight:%D, height:%2f\n"
     ]
    }
   ],
   "source": [
    "# person Name:anil kumar,weight ,height:5.67\n",
    "name=\"anil kumar\"\n",
    "weight=34.256\n",
    "height=56.264\n",
    "print \"person name:%s, Weight:%D, height:%2f\"%"
   ]
  },
  {
   "cell_type": "code",
   "execution_count": null,
   "metadata": {
    "collapsed": true
   },
   "outputs": [],
   "source": []
  }
 ],
 "metadata": {
  "kernelspec": {
   "display_name": "Python 2",
   "language": "python",
   "name": "python2"
  },
  "language_info": {
   "codemirror_mode": {
    "name": "ipython",
    "version": 2
   },
   "file_extension": ".py",
   "mimetype": "text/x-python",
   "name": "python",
   "nbconvert_exporter": "python",
   "pygments_lexer": "ipython2",
   "version": "2.7.14"
  }
 },
 "nbformat": 4,
 "nbformat_minor": 2
}
