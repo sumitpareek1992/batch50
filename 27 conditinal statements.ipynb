{
 "cells": [
  {
   "cell_type": "code",
   "execution_count": 1,
   "metadata": {},
   "outputs": [
    {
     "name": "stdout",
     "output_type": "stream",
     "text": [
      "enter the age22\n",
      "you are able to marriage\n"
     ]
    }
   ],
   "source": [
    "# eveluating sinystem for people in india\n",
    "\n",
    "a=int(raw_input(\"enter the age\"))\n",
    "\n",
    "if a>=21:\n",
    "    print\"you are able to marriage\"\n",
    "    \n",
    "else:\n",
    "    print\"you are not able to marriage\"\n",
    "\n",
    "    \n"
   ]
  },
  {
   "cell_type": "code",
   "execution_count": null,
   "metadata": {
    "collapsed": true
   },
   "outputs": [],
   "source": [
    "# eveluating sinystem for people in india\n",
    "option=int(raw_input(\"enter the option\"))\n",
    "age=int(raw_input(\"enter the age\"))\n",
    "if option==1 and age>=21:\n",
    "    print \"you are ready to marriage\"\n",
    "elif option==1 or age>=21:\n",
    "    print \"you are not ready to marriage\"\n",
    "    "
   ]
  }
 ],
 "metadata": {
  "kernelspec": {
   "display_name": "Python 2",
   "language": "python",
   "name": "python2"
  },
  "language_info": {
   "codemirror_mode": {
    "name": "ipython",
    "version": 2
   },
   "file_extension": ".py",
   "mimetype": "text/x-python",
   "name": "python",
   "nbconvert_exporter": "python",
   "pygments_lexer": "ipython2",
   "version": "2.7.14"
  }
 },
 "nbformat": 4,
 "nbformat_minor": 2
}
