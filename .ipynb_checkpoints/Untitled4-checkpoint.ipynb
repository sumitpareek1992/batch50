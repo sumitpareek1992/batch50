{
 "cells": [
  {
   "cell_type": "code",
   "execution_count": null,
   "metadata": {},
   "outputs": [],
   "source": [
    "print \"Welcome to our organization please give details of employees\\nIf your details are completed then prees q in block of name for final result\"\n",
    "try:\n",
    "    i=0\n",
    "    while i<=5:\n",
    "        n=raw_input(\"enter name of emp:\")\n",
    "        a=int(raw_input(\"enter age of emp:\"))\n",
    "        w=float(raw_input(\"enter weight of emp:\"))\n",
    "        h=float(raw_input(\"enter height of emp in meters:\"))\n",
    "        BMI= (w)/(h)**2\n",
    "        i=i+1\n",
    "        print \"BMI=\",BMI\n",
    "except ValueError as err:\n",
    "    print \"we are expecting only digits\"\n",
    "            \n",
    "            \n",
    "            "
   ]
  },
  {
   "cell_type": "code",
   "execution_count": null,
   "metadata": {
    "collapsed": true
   },
   "outputs": [],
   "source": []
  },
  {
   "cell_type": "code",
   "execution_count": null,
   "metadata": {
    "collapsed": true
   },
   "outputs": [],
   "source": []
  }
 ],
 "metadata": {
  "kernelspec": {
   "display_name": "Python 2",
   "language": "python",
   "name": "python2"
  },
  "language_info": {
   "codemirror_mode": {
    "name": "ipython",
    "version": 2
   },
   "file_extension": ".py",
   "mimetype": "text/x-python",
   "name": "python",
   "nbconvert_exporter": "python",
   "pygments_lexer": "ipython2",
   "version": "2.7.14"
  }
 },
 "nbformat": 4,
 "nbformat_minor": 2
}
