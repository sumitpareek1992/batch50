{
 "cells": [
  {
   "cell_type": "code",
   "execution_count": 4,
   "metadata": {},
   "outputs": [
    {
     "name": "stdout",
     "output_type": "stream",
     "text": [
      "enter a number12\n",
      " enter number is not prime number\n"
     ]
    }
   ],
   "source": [
    "# check no is prime or not\n",
    "num=int(raw_input(\"enter a number\"))\n",
    "for i in range(2,num):\n",
    "    if num>1 and num%i==0:\n",
    "        print(\" enter number is not prime number\")\n",
    "        break\n",
    "else :\n",
    "        print(\"it's prime number\")\n"
   ]
  },
  {
   "cell_type": "code",
   "execution_count": 20,
   "metadata": {},
   "outputs": [
    {
     "name": "stdout",
     "output_type": "stream",
     "text": [
      "enter a string:2.5\n",
      "you enter mix string\n"
     ]
    }
   ],
   "source": [
    "# check contains of string is digits\n",
    "string=(raw_input(\"enter a string:\"))\n",
    "if  string.isdigit():\n",
    "    print (\"string have all digit\")\n",
    "else:\n",
    "    print(\"you enter mix string\")"
   ]
  },
  {
   "cell_type": "code",
   "execution_count": 5,
   "metadata": {},
   "outputs": [
    {
     "name": "stdout",
     "output_type": "stream",
     "text": [
      "True\n",
      "False\n"
     ]
    }
   ],
   "source": [
    "import string\n",
    "alphabet = set(string.ascii_lowercase)\n",
    "input_string = 'The quick brown Fox jumps over the lazy dog 1255'\n",
    "print(set(input_string.lower()) >= alphabet)\n",
    "input_string = 'The quick brown fox jumps over the lazy cat'\n",
    "print(set(input_string.lower()) >= alphabet)"
   ]
  },
  {
   "cell_type": "code",
   "execution_count": 6,
   "metadata": {},
   "outputs": [
    {
     "name": "stdout",
     "output_type": "stream",
     "text": [
      "enter a string:jbjkh\n",
      "string have all alphabet\n"
     ]
    }
   ],
   "source": [
    "# check contains of string is alphabet\n",
    "string=str(raw_input(\"enter a string:\"))\n",
    "if  string.isalpha():\n",
    "    print (\"string have all alphabet\")\n",
    "else:\n",
    "    print(\"you enter mix string\")"
   ]
  },
  {
   "cell_type": "code",
   "execution_count": 8,
   "metadata": {},
   "outputs": [
    {
     "name": "stdout",
     "output_type": "stream",
     "text": [
      "enter a string:4552\n"
     ]
    }
   ],
   "source": [
    "import string\n",
    "alphabet = set(string.ascii_lowercase)\n",
    "string=str(raw_input(\"enter a string:\"))\n",
    "if set(string.lower())>= alphabet:\n",
    "    print(\"correct\")"
   ]
  },
  {
   "cell_type": "code",
   "execution_count": null,
   "metadata": {
    "collapsed": true
   },
   "outputs": [],
   "source": []
  },
  {
   "cell_type": "code",
   "execution_count": 27,
   "metadata": {},
   "outputs": [
    {
     "name": "stdout",
     "output_type": "stream",
     "text": [
      "enter a string:V DFV\n",
      "string have only capital letter\n"
     ]
    }
   ],
   "source": [
    "# check contains of string is capital letter\n",
    "string=(raw_input(\"enter a string:\"))\n",
    "if  string.isupper():\n",
    "    print (\"string have only capital letter\")\n",
    "else:\n",
    "    print(\"you enter mix string\")"
   ]
  },
  {
   "cell_type": "code",
   "execution_count": 24,
   "metadata": {},
   "outputs": [
    {
     "name": "stdout",
     "output_type": "stream",
     "text": [
      "enter a string:vdvf\n",
      "string have  small letter\n"
     ]
    }
   ],
   "source": [
    "# check contains of string is small letter\n",
    "string=(raw_input(\"enter a string:\"))\n",
    "if  string.islower():\n",
    "    print (\"string have only small letter\")\n",
    "else:\n",
    "    print(\"you enter mix string\")"
   ]
  },
  {
   "cell_type": "code",
   "execution_count": 10,
   "metadata": {},
   "outputs": [
    {
     "name": "stdout",
     "output_type": "stream",
     "text": [
      "enter an alphabets:GVHVHvfvfd\n",
      "there is only capital letter\n"
     ]
    }
   ],
   "source": [
    "# check contains of string is capital letter\n",
    "num=raw_input(\"enter an alphabets:\")\n",
    "for i in num:\n",
    "    if ord(i)>64 and ord(i)<91:\n",
    "        print (\"there is only capital letter\")\n",
    "        break\n",
    "else:\n",
    "    print (\"there are small letter\")\n",
    "    \n",
    "    \n",
    "        \n",
    "        \n",
    "    "
   ]
  },
  {
   "cell_type": "code",
   "execution_count": 17,
   "metadata": {},
   "outputs": [
    {
     "name": "stdout",
     "output_type": "stream",
     "text": [
      "enter a number41\n",
      "it's prime number\n"
     ]
    }
   ],
   "source": [
    "# check no is prime or not\n",
    "num=int(raw_input(\"enter a number\"))\n",
    "for i in range(4,num):\n",
    "    if num>4:\n",
    "        if num%i==0:\n",
    "            print (\"num is not prime no\")\n",
    "            break\n",
    "        \n",
    "        \n",
    "        \n",
    "else :\n",
    "        print(\"it's prime number\")\n"
   ]
  },
  {
   "cell_type": "code",
   "execution_count": 31,
   "metadata": {},
   "outputs": [
    {
     "name": "stdout",
     "output_type": "stream",
     "text": [
      "enter a number:12\n",
      " no digit\n"
     ]
    }
   ],
   "source": [
    "d=int(raw_input(\"enter a number:\"))\n",
    "\n",
    "for i in s :\n",
    "    if i==int(d) and i==float(d) :\n",
    "        print (\"digit\")\n",
    "        \n",
    "else:\n",
    "    print (\" no digit\")"
   ]
  },
  {
   "cell_type": "code",
   "execution_count": 10,
   "metadata": {},
   "outputs": [
    {
     "name": "stdout",
     "output_type": "stream",
     "text": [
      "enter a number:fcychcGFCHG\n",
      "have cap\n"
     ]
    }
   ],
   "source": [
    "str=(raw_input(\"enter a number:\"))\n",
    "for i in str :\n",
    "    if ord(i)>=56 and ord(i)<=90:\n",
    "        print(\"have cap\")\n",
    "        break\n",
    "else:\n",
    "    print(\"hv small\")\n",
    "        \n",
    "        "
   ]
  },
  {
   "cell_type": "code",
   "execution_count": 1,
   "metadata": {},
   "outputs": [
    {
     "name": "stdout",
     "output_type": "stream",
     "text": [
      "enter string:sdwGH\n",
      "contatins caps\n",
      "thank you!!\n"
     ]
    }
   ],
   "source": [
    "s=raw_input(\"enter string:\")\n",
    "for i in s:\n",
    "    if ord(i)>=65 and ord(i)<=90:\n",
    "        print \"contatins caps\"\n",
    "        break\n",
    "else:\n",
    "    print \"does not contains caps\"\n",
    "print \"thank you!!\""
   ]
  },
  {
   "cell_type": "code",
   "execution_count": 12,
   "metadata": {},
   "outputs": [
    {
     "name": "stdout",
     "output_type": "stream",
     "text": [
      "enter string:05265jjhj\n",
      "contatins digit\n",
      "thank you!!\n"
     ]
    }
   ],
   "source": [
    "d=raw_input(\"enter string:\")\n",
    "for i in d:\n",
    "    if i>=0 : \n",
    "        print \"contatins digit\"\n",
    "        break\n",
    "else:\n",
    "    print \"does not contains digit\"\n",
    "print \"thank you!!\""
   ]
  },
  {
   "cell_type": "code",
   "execution_count": 24,
   "metadata": {},
   "outputs": [
    {
     "name": "stdout",
     "output_type": "stream",
     "text": [
      "enter a no:100\n",
      "1\n",
      "2\n",
      "4\n",
      "5\n",
      "10\n",
      "20\n",
      "25\n",
      "50\n",
      "100\n"
     ]
    }
   ],
   "source": [
    "# determine the fectors of given no\n",
    "n=int(raw_input('enter a no:'))\n",
    "for i in range(1,n+1):\n",
    "    if n%i==0:\n",
    "        print i"
   ]
  },
  {
   "cell_type": "code",
   "execution_count": 23,
   "metadata": {},
   "outputs": [
    {
     "name": "stdout",
     "output_type": "stream",
     "text": [
      "1\n",
      "3\n",
      "5\n",
      "7\n",
      "9\n",
      "11\n",
      "13\n",
      "15\n",
      "17\n",
      "19\n",
      "21\n",
      "23\n",
      "25\n",
      "27\n",
      "29\n",
      "31\n",
      "33\n",
      "35\n",
      "37\n",
      "39\n",
      "41\n",
      "43\n",
      "45\n",
      "47\n",
      "49\n",
      "51\n",
      "53\n",
      "55\n",
      "57\n",
      "59\n",
      "61\n",
      "63\n",
      "65\n",
      "67\n",
      "69\n",
      "71\n",
      "73\n",
      "75\n",
      "77\n",
      "79\n",
      "81\n",
      "83\n",
      "85\n",
      "87\n",
      "89\n",
      "91\n",
      "93\n",
      "95\n",
      "97\n",
      "99\n"
     ]
    }
   ],
   "source": [
    "# print first 100 odd no\n",
    "i=0\n",
    "while i<200:\n",
    "    if i%2!=0:\n",
    "        print i\n",
    "    i=i+1"
   ]
  },
  {
   "cell_type": "code",
   "execution_count": 2,
   "metadata": {},
   "outputs": [
    {
     "name": "stdout",
     "output_type": "stream",
     "text": [
      "entr a no=20\n",
      "lower\n",
      "entr a no=21\n",
      "quit\n"
     ]
    }
   ],
   "source": [
    "# play game of no\n",
    "n=0\n",
    "while n<=20:\n",
    "    n=int(raw_input(\"entr a no=\"))\n",
    "    if n<=10:\n",
    "        print 'higher'\n",
    "    elif n>=12 and n<=20:\n",
    "        print \"lower\"\n",
    "    elif n==11:\n",
    "        print 'yes'\n",
    "        continue\n",
    "else :\n",
    "    print \"quit\""
   ]
  },
  {
   "cell_type": "code",
   "execution_count": 1,
   "metadata": {},
   "outputs": [
    {
     "name": "stdout",
     "output_type": "stream",
     "text": [
      "entr a no=11\n",
      "yes\n"
     ]
    }
   ],
   "source": [
    "# play game of no\n",
    "n=0\n",
    "while n<=20:\n",
    "    n=int(raw_input(\"entr a no=\"))\n",
    "    if n<=10:\n",
    "        print 'higher'\n",
    "    elif n>=12 and n<=20:\n",
    "        print \"lower\"\n",
    "        continue\n",
    "    elif n==11:\n",
    "        print \"yes\"\n",
    "        break\n",
    "else :\n",
    "    print \"quit\""
   ]
  },
  {
   "cell_type": "code",
   "execution_count": 6,
   "metadata": {},
   "outputs": [
    {
     "name": "stdout",
     "output_type": "stream",
     "text": [
      "enter a number\t10\n",
      "enter a number\t10\n",
      "both no same\n",
      "b is big\n"
     ]
    }
   ],
   "source": [
    "# WAP a program to find big no\n",
    "a=int(raw_input(\"enter a number\\t\"))\n",
    "b=int(raw_input(\"enter a number\\t\"))\n",
    "for i in range(a,b+1):\n",
    "    if a>b:\n",
    "        print \"a is big\"\n",
    "    elif a==b:\n",
    "        print \"both no same\"\n",
    "else:\n",
    "    print \"b is big\"\n"
   ]
  },
  {
   "cell_type": "code",
   "execution_count": 2,
   "metadata": {},
   "outputs": [
    {
     "name": "stdout",
     "output_type": "stream",
     "text": [
      "93\n"
     ]
    }
   ],
   "source": [
    "def (l):\n",
    "    myMax = l[0]\n",
    "    for num in l:\n",
    "        if myMax < num:\n",
    "            myMax = num\n",
    "    return myMax\n",
    "\n",
    "\n",
    "print highestNumber ([77,48,19,17,93,90])"
   ]
  },
  {
   "cell_type": "code",
   "execution_count": null,
   "metadata": {
    "collapsed": true
   },
   "outputs": [],
   "source": []
  }
 ],
 "metadata": {
  "kernelspec": {
   "display_name": "Python 2",
   "language": "python",
   "name": "python2"
  },
  "language_info": {
   "codemirror_mode": {
    "name": "ipython",
    "version": 2
   },
   "file_extension": ".py",
   "mimetype": "text/x-python",
   "name": "python",
   "nbconvert_exporter": "python",
   "pygments_lexer": "ipython2",
   "version": "2.7.14"
  }
 },
 "nbformat": 4,
 "nbformat_minor": 2
}
