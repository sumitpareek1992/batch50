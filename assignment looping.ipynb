{
 "cells": [
  {
   "cell_type": "code",
   "execution_count": 6,
   "metadata": {},
   "outputs": [
    {
     "name": "stdout",
     "output_type": "stream",
     "text": [
      "enter a number21\n",
      " enter number is not prime number\n"
     ]
    }
   ],
   "source": [
    "# check no is prime or not\n",
    "num=int(raw_input(\"enter a number\"))\n",
    "for i in range(2,num):\n",
    "    if num>1 and num%i==0:\n",
    "        print(\" enter number is not prime number\")\n",
    "        break\n",
    "else :\n",
    "        print(\"it's prime number\")\n"
   ]
  },
  {
   "cell_type": "code",
   "execution_count": 20,
   "metadata": {},
   "outputs": [
    {
     "name": "stdout",
     "output_type": "stream",
     "text": [
      "enter a string:2.5\n",
      "you enter mix string\n"
     ]
    }
   ],
   "source": [
    "# check contains of string is digits\n",
    "string=(raw_input(\"enter a string:\"))\n",
    "if  string.isdigit():\n",
    "    print (\"string have all digit\")\n",
    "else:\n",
    "    print(\"you enter mix string\")"
   ]
  },
  {
   "cell_type": "code",
   "execution_count": 22,
   "metadata": {},
   "outputs": [
    {
     "name": "stdout",
     "output_type": "stream",
     "text": [
      "True\n",
      "False\n"
     ]
    }
   ],
   "source": [
    "import string\n",
    "alphabet = set(string.ascii_lowercase)\n",
    "input_string = 'The quick brown Fox jumps over the lazy dog 1255'\n",
    "print(set(input_string.lower()) >= alphabet)\n",
    "input_string = 'The quick brown fox jumps over the lazy cat'\n",
    "print(set(input_string.lower()) >= alphabet)"
   ]
  },
  {
   "cell_type": "code",
   "execution_count": 4,
   "metadata": {},
   "outputs": [
    {
     "name": "stdout",
     "output_type": "stream",
     "text": [
      "enter a string:sdbnlsdkjnf\n",
      "string have all alphabet\n"
     ]
    }
   ],
   "source": [
    "# check contains of string is alphabet\n",
    "string=str(raw_input(\"enter a string:\"))\n",
    "if  string.isalpha():\n",
    "    print (\"string have all alphabet\")\n",
    "else:\n",
    "    print(\"you enter mix string\")"
   ]
  },
  {
   "cell_type": "code",
   "execution_count": 8,
   "metadata": {},
   "outputs": [
    {
     "name": "stdout",
     "output_type": "stream",
     "text": [
      "enter a string:4552\n"
     ]
    }
   ],
   "source": [
    "import string\n",
    "alphabet = set(string.ascii_lowercase)\n",
    "string=str(raw_input(\"enter a string:\"))\n",
    "if set(string.lower())>= alphabet:\n",
    "    print(\"correct\")"
   ]
  },
  {
   "cell_type": "code",
   "execution_count": null,
   "metadata": {},
   "outputs": [],
   "source": []
  },
  {
   "cell_type": "code",
   "execution_count": 27,
   "metadata": {},
   "outputs": [
    {
     "name": "stdout",
     "output_type": "stream",
     "text": [
      "enter a string:V DFV\n",
      "string have only capital letter\n"
     ]
    }
   ],
   "source": [
    "# check contains of string is capital letter\n",
    "string=(raw_input(\"enter a string:\"))\n",
    "if  string.isupper():\n",
    "    print (\"string have only capital letter\")\n",
    "else:\n",
    "    print(\"you enter mix string\")"
   ]
  },
  {
   "cell_type": "code",
   "execution_count": 24,
   "metadata": {},
   "outputs": [
    {
     "name": "stdout",
     "output_type": "stream",
     "text": [
      "enter a string:vdvf\n",
      "string have  small letter\n"
     ]
    }
   ],
   "source": [
    "# check contains of string is small letter\n",
    "string=(raw_input(\"enter a string:\"))\n",
    "if  string.islower():\n",
    "    print (\"string have only small letter\")\n",
    "else:\n",
    "    print(\"you enter mix string\")"
   ]
  },
  {
   "cell_type": "code",
   "execution_count": 54,
   "metadata": {},
   "outputs": [
    {
     "name": "stdout",
     "output_type": "stream",
     "text": [
      "enter an alphabetsVYTVVJU\n"
     ]
    }
   ],
   "source": [
    "# check contains of string is capital letter\n",
    "num=raw_input(\"enter an alphabets\")\n",
    "for i in num:\n",
    "    if ord(i)>64 and ord(i)<91:\n",
    "        continue\n",
    "        print (\"there is only capital letter\")\n",
    "        \n",
    "    else:\n",
    "        print (\"there is small latter\")\n",
    "        break\n",
    "        \n",
    "    "
   ]
  },
  {
   "cell_type": "code",
   "execution_count": null,
   "metadata": {},
   "outputs": [],
   "source": []
  },
  {
   "cell_type": "code",
   "execution_count": null,
   "metadata": {
    "collapsed": true
   },
   "outputs": [],
   "source": []
  }
 ],
 "metadata": {
  "kernelspec": {
   "display_name": "Python 2",
   "language": "python",
   "name": "python2"
  },
  "language_info": {
   "codemirror_mode": {
    "name": "ipython",
    "version": 2
   },
   "file_extension": ".py",
   "mimetype": "text/x-python",
   "name": "python",
   "nbconvert_exporter": "python",
   "pygments_lexer": "ipython2",
   "version": "2.7.14"
  }
 },
 "nbformat": 4,
 "nbformat_minor": 2
}
