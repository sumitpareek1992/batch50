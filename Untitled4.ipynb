{
 "cells": [
  {
   "cell_type": "code",
   "execution_count": null,
   "metadata": {
    "scrolled": true
   },
   "outputs": [],
   "source": [
    "print \"Welcome to our organization please give details of employees\\nIf your details are completed or quit from program then prees 1in block of name for final result else type any no\"\n",
    "\n",
    "try:\n",
    "    res=[]\n",
    "    i=0\n",
    "    while i<=5:\n",
    "        q=int(raw_input(\"enter input\"))\n",
    "        if q==1:\n",
    "            break\n",
    "        else:\n",
    "            n=raw_input(\"enter name of emp:\")\n",
    "            a=int(raw_input(\"enter age of emp:\"))\n",
    "            w=float(raw_input(\"enter weight of emp:\"))\n",
    "            h=float(raw_input(\"enter height of emp in meters:\"))\n",
    "            BMI= (w)/(h)**2\n",
    "            i=i+1\n",
    "            print \"BMI=\",BMI\n",
    "            res.append(BMI)\n",
    "    for i in res:\n",
    "        pass\n",
    "    value=sum(res)\n",
    "    value1=value/len(res)\n",
    "    if value1<=20:\n",
    "        print \"your orgnization health is not good\"\n",
    "    else:\n",
    "        print\"your organization health is good\"\n",
    "except ValueError as err:\n",
    "    print \"we are expecting only digits\"\n",
    "except ZeroDivisionError as err:\n",
    "    print\"you don't give any employee detail \"\n",
    "finally:\n",
    "    print \"Thank You\"\n",
    "    \n",
    "     \n",
    "    \n",
    "            \n",
    "            \n",
    "            "
   ]
  },
  {
   "cell_type": "code",
   "execution_count": null,
   "metadata": {
    "collapsed": true
   },
   "outputs": [],
   "source": []
  },
  {
   "cell_type": "code",
   "execution_count": null,
   "metadata": {
    "collapsed": true
   },
   "outputs": [],
   "source": []
  }
 ],
 "metadata": {
  "kernelspec": {
   "display_name": "Python 2",
   "language": "python",
   "name": "python2"
  },
  "language_info": {
   "codemirror_mode": {
    "name": "ipython",
    "version": 2
   },
   "file_extension": ".py",
   "mimetype": "text/x-python",
   "name": "python",
   "nbconvert_exporter": "python",
   "pygments_lexer": "ipython2",
   "version": "2.7.14"
  }
 },
 "nbformat": 4,
 "nbformat_minor": 2
}
