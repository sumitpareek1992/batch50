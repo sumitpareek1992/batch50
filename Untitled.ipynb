{
 "cells": [
  {
   "cell_type": "code",
   "execution_count": 5,
   "metadata": {},
   "outputs": [
    {
     "name": "stdout",
     "output_type": "stream",
     "text": [
      "enter the value in kilometer:12\n",
      "mtr:12000\n",
      "cm:1200000\n",
      "mm:12000000\n",
      "feet:3048000\n"
     ]
    }
   ],
   "source": [
    "kilometer=int(raw_input(\"enter the value in kilometer:\"))\n",
    "mtr=(kilometer)*1000\n",
    "cm=(mtr)*100\n",
    "mm=(cm)*10\n",
    "feet=(cm)*2.54\n",
    "print \"mtr:%d\\ncm:%d\\nmm:%d\\nfeet:%d\"%(mtr,cm,mm,feet)"
   ]
  },
  {
   "cell_type": "code",
   "execution_count": 2,
   "metadata": {},
   "outputs": [
    {
     "name": "stdout",
     "output_type": "stream",
     "text": [
      "enter value of a10\n",
      "enter value of b5\n",
      "a is divisible by b\n"
     ]
    }
   ],
   "source": [
    "# take two no from user a and b check whether a is divisible by b or not\n",
    "a=float(raw_input(\"enter value of a\"))\n",
    "b=float(raw_input(\"enter value of b\"))\n",
    "c=a/b\n",
    "if a/b==int(c):\n",
    "    print \"a is divisible by b\"\n",
    "else :\n",
    "    print \"a is not divisible by b\""
   ]
  },
  {
   "cell_type": "code",
   "execution_count": null,
   "metadata": {
    "collapsed": true
   },
   "outputs": [],
   "source": []
  }
 ],
 "metadata": {
  "kernelspec": {
   "display_name": "Python 2",
   "language": "python",
   "name": "python2"
  },
  "language_info": {
   "codemirror_mode": {
    "name": "ipython",
    "version": 2
   },
   "file_extension": ".py",
   "mimetype": "text/x-python",
   "name": "python",
   "nbconvert_exporter": "python",
   "pygments_lexer": "ipython2",
   "version": "2.7.14"
  }
 },
 "nbformat": 4,
 "nbformat_minor": 2
}
