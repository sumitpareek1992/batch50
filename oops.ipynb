{
 "cells": [
  {
   "cell_type": "code",
   "execution_count": 4,
   "metadata": {},
   "outputs": [
    {
     "name": "stdout",
     "output_type": "stream",
     "text": [
      "this is class\n",
      "10 20 30\n"
     ]
    }
   ],
   "source": [
    "class c1: \n",
    "    print \"this is class\"\n",
    "    a=10\n",
    "    b=20\n",
    "    c=30\n",
    "    def fun(c1,c2):\n",
    "        print \"c1=%s,c2=%s\"%(c1,c2)\n",
    "print c1.a,c1.b,c1.c\n"
   ]
  },
  {
   "cell_type": "code",
   "execution_count": 10,
   "metadata": {},
   "outputs": [
    {
     "name": "stdout",
     "output_type": "stream",
     "text": [
      "this is class\n",
      "10 20 30\n"
     ]
    },
    {
     "ename": "TypeError",
     "evalue": "unbound method fun() must be called with c1 instance as first argument (got int instance instead)",
     "output_type": "error",
     "traceback": [
      "\u001b[1;31m---------------------------------------------------------------------------\u001b[0m",
      "\u001b[1;31mTypeError\u001b[0m                                 Traceback (most recent call last)",
      "\u001b[1;32m<ipython-input-10-e65bf6a9f62b>\u001b[0m in \u001b[0;36m<module>\u001b[1;34m()\u001b[0m\n\u001b[0;32m      7\u001b[0m         \u001b[1;32mprint\u001b[0m \u001b[1;34m\"c1=%s,c2=%s\"\u001b[0m\u001b[1;33m%\u001b[0m\u001b[1;33m(\u001b[0m\u001b[0mc1\u001b[0m\u001b[1;33m,\u001b[0m\u001b[0mc2\u001b[0m\u001b[1;33m)\u001b[0m\u001b[1;33m\u001b[0m\u001b[0m\n\u001b[0;32m      8\u001b[0m \u001b[1;32mprint\u001b[0m \u001b[0mc1\u001b[0m\u001b[1;33m.\u001b[0m\u001b[0ma\u001b[0m\u001b[1;33m,\u001b[0m\u001b[0mc1\u001b[0m\u001b[1;33m.\u001b[0m\u001b[0mb\u001b[0m\u001b[1;33m,\u001b[0m\u001b[0mc1\u001b[0m\u001b[1;33m.\u001b[0m\u001b[0mc\u001b[0m\u001b[1;33m\u001b[0m\u001b[0m\n\u001b[1;32m----> 9\u001b[1;33m \u001b[0mc1\u001b[0m\u001b[1;33m.\u001b[0m\u001b[0mfun\u001b[0m\u001b[1;33m(\u001b[0m\u001b[1;36m10\u001b[0m\u001b[1;33m,\u001b[0m\u001b[1;36m20\u001b[0m\u001b[1;33m)\u001b[0m\u001b[1;33m\u001b[0m\u001b[0m\n\u001b[0m",
      "\u001b[1;31mTypeError\u001b[0m: unbound method fun() must be called with c1 instance as first argument (got int instance instead)"
     ]
    }
   ],
   "source": [
    "class c1: \n",
    "    print \"this is class\"\n",
    "    a=10\n",
    "    b=20\n",
    "    c=30\n",
    "    def fun(c1,c2):\n",
    "        print \"c1=%s,c2=%s\"%(c1,c2)\n",
    "print c1.a,c1.b,c1.c\n",
    "c1.fun(10,20)"
   ]
  },
  {
   "cell_type": "code",
   "execution_count": 11,
   "metadata": {},
   "outputs": [
    {
     "name": "stdout",
     "output_type": "stream",
     "text": [
      "this is class\n",
      "c1=10,c2=20\n",
      "10 20 30\n"
     ]
    }
   ],
   "source": [
    "class c1: \n",
    "    print \"this is class\"\n",
    "    a=10\n",
    "    b=20\n",
    "    c=30\n",
    "    def fun(c1,c2):\n",
    "        print \"c1=%s,c2=%s\"%(c1,c2)\n",
    "    fun(10,20)    \n",
    "print c1.a,c1.b,c1.c\n"
   ]
  },
  {
   "cell_type": "code",
   "execution_count": 13,
   "metadata": {},
   "outputs": [
    {
     "name": "stdout",
     "output_type": "stream",
     "text": [
      "this is class\n",
      "10 20 30\n",
      "c1=<__main__.c1 instance at 0x0000000006E70C08>,c2=20\n"
     ]
    }
   ],
   "source": [
    "class c1: \n",
    "    print \"this is class\"\n",
    "    a=10\n",
    "    b=20\n",
    "    c=30\n",
    "    def fun(c1,c2):\n",
    "        print \"c1=%s,c2=%s\"%(c1,c2)\n",
    "print c1.a,c1.b,c1.c\n",
    "o1=c1()\n",
    "c1.fun(o1,20)"
   ]
  },
  {
   "cell_type": "code",
   "execution_count": 22,
   "metadata": {},
   "outputs": [
    {
     "name": "stdout",
     "output_type": "stream",
     "text": [
      "30\n"
     ]
    },
    {
     "ename": "TypeError",
     "evalue": "unbound method fun() must be called with d1 instance as first argument (got classobj instance instead)",
     "output_type": "error",
     "traceback": [
      "\u001b[1;31m---------------------------------------------------------------------------\u001b[0m",
      "\u001b[1;31mTypeError\u001b[0m                                 Traceback (most recent call last)",
      "\u001b[1;32m<ipython-input-22-22f12ee199f9>\u001b[0m in \u001b[0;36m<module>\u001b[1;34m()\u001b[0m\n\u001b[0;32m      8\u001b[0m \u001b[1;32mprint\u001b[0m \u001b[0md1\u001b[0m\u001b[1;33m.\u001b[0m\u001b[0msales\u001b[0m\u001b[1;33m\u001b[0m\u001b[0m\n\u001b[0;32m      9\u001b[0m \u001b[0mf1\u001b[0m\u001b[1;33m=\u001b[0m\u001b[0md1\u001b[0m\u001b[1;33m\u001b[0m\u001b[0m\n\u001b[1;32m---> 10\u001b[1;33m \u001b[0md1\u001b[0m\u001b[1;33m.\u001b[0m\u001b[0mfun\u001b[0m\u001b[1;33m(\u001b[0m\u001b[0md1\u001b[0m\u001b[1;33m,\u001b[0m\u001b[1;36m20\u001b[0m\u001b[1;33m)\u001b[0m\u001b[1;33m\u001b[0m\u001b[0m\n\u001b[0m",
      "\u001b[1;31mTypeError\u001b[0m: unbound method fun() must be called with d1 instance as first argument (got classobj instance instead)"
     ]
    }
   ],
   "source": [
    "class d1:\n",
    "    sales=30\n",
    "    purchese=40\n",
    "    profit=10\n",
    "    def fun(a,b):\n",
    "        print \"a=%s,b=%s\"%(a,b)\n",
    "\n",
    "print d1.sales\n",
    "f1=d1\n",
    "d1.fun(,20)"
   ]
  },
  {
   "cell_type": "code",
   "execution_count": 23,
   "metadata": {},
   "outputs": [
    {
     "name": "stdout",
     "output_type": "stream",
     "text": [
      "this is company\n",
      "this is details\n"
     ]
    },
    {
     "ename": "NameError",
     "evalue": "global name 'printh1' is not defined",
     "output_type": "error",
     "traceback": [
      "\u001b[1;31m---------------------------------------------------------------------------\u001b[0m",
      "\u001b[1;31mNameError\u001b[0m                                 Traceback (most recent call last)",
      "\u001b[1;32m<ipython-input-23-195d1247e3ed>\u001b[0m in \u001b[0;36m<module>\u001b[1;34m()\u001b[0m\n\u001b[1;32m----> 1\u001b[1;33m \u001b[1;32mclass\u001b[0m \u001b[0mf1\u001b[0m\u001b[1;33m:\u001b[0m\u001b[1;33m\u001b[0m\u001b[0m\n\u001b[0m\u001b[0;32m      2\u001b[0m     \u001b[1;32mprint\u001b[0m\u001b[1;34m\"this is company\"\u001b[0m\u001b[1;33m\u001b[0m\u001b[0m\n\u001b[0;32m      3\u001b[0m     \u001b[0mname\u001b[0m\u001b[1;33m=\u001b[0m\u001b[1;34m\"rahul\"\u001b[0m\u001b[1;33m\u001b[0m\u001b[0m\n\u001b[0;32m      4\u001b[0m     \u001b[0mage\u001b[0m\u001b[1;33m=\u001b[0m\u001b[1;36m25\u001b[0m\u001b[1;33m\u001b[0m\u001b[0m\n\u001b[0;32m      5\u001b[0m     \u001b[1;32mdef\u001b[0m \u001b[0mfun\u001b[0m\u001b[1;33m(\u001b[0m\u001b[0mh1\u001b[0m\u001b[1;33m,\u001b[0m\u001b[0mh2\u001b[0m\u001b[1;33m)\u001b[0m\u001b[1;33m:\u001b[0m\u001b[1;33m\u001b[0m\u001b[0m\n",
      "\u001b[1;32m<ipython-input-23-195d1247e3ed>\u001b[0m in \u001b[0;36mf1\u001b[1;34m()\u001b[0m\n\u001b[0;32m      6\u001b[0m         \u001b[1;32mprint\u001b[0m\u001b[1;34m\"this is details\"\u001b[0m\u001b[1;33m\u001b[0m\u001b[0m\n\u001b[0;32m      7\u001b[0m         \u001b[0mprinth1\u001b[0m\u001b[1;33m+\u001b[0m\u001b[0mh2\u001b[0m\u001b[1;33m\u001b[0m\u001b[0m\n\u001b[1;32m----> 8\u001b[1;33m     \u001b[0mfun\u001b[0m\u001b[1;33m(\u001b[0m\u001b[1;36m10\u001b[0m\u001b[1;33m,\u001b[0m\u001b[1;36m20\u001b[0m\u001b[1;33m)\u001b[0m\u001b[1;33m\u001b[0m\u001b[0m\n\u001b[0m",
      "\u001b[1;32m<ipython-input-23-195d1247e3ed>\u001b[0m in \u001b[0;36mfun\u001b[1;34m(h1, h2)\u001b[0m\n\u001b[0;32m      5\u001b[0m     \u001b[1;32mdef\u001b[0m \u001b[0mfun\u001b[0m\u001b[1;33m(\u001b[0m\u001b[0mh1\u001b[0m\u001b[1;33m,\u001b[0m\u001b[0mh2\u001b[0m\u001b[1;33m)\u001b[0m\u001b[1;33m:\u001b[0m\u001b[1;33m\u001b[0m\u001b[0m\n\u001b[0;32m      6\u001b[0m         \u001b[1;32mprint\u001b[0m\u001b[1;34m\"this is details\"\u001b[0m\u001b[1;33m\u001b[0m\u001b[0m\n\u001b[1;32m----> 7\u001b[1;33m         \u001b[0mprinth1\u001b[0m\u001b[1;33m+\u001b[0m\u001b[0mh2\u001b[0m\u001b[1;33m\u001b[0m\u001b[0m\n\u001b[0m\u001b[0;32m      8\u001b[0m     \u001b[0mfun\u001b[0m\u001b[1;33m(\u001b[0m\u001b[1;36m10\u001b[0m\u001b[1;33m,\u001b[0m\u001b[1;36m20\u001b[0m\u001b[1;33m)\u001b[0m\u001b[1;33m\u001b[0m\u001b[0m\n",
      "\u001b[1;31mNameError\u001b[0m: global name 'printh1' is not defined"
     ]
    }
   ],
   "source": [
    "class f1:\n",
    "    print\"this is company\"\n",
    "    name=\"rahul\"\n",
    "    age=25\n",
    "    def fun(h1,h2):\n",
    "        print\"this is details\"\n",
    "        printh1+h2\n",
    "        fun(10,20)    "
   ]
  },
  {
   "cell_type": "code",
   "execution_count": 25,
   "metadata": {},
   "outputs": [
    {
     "name": "stdout",
     "output_type": "stream",
     "text": [
      "this is class\n",
      "10 20 30\n",
      "c1=<__main__.c1 instance at 0x0000000006DBBB88>,c2=20\n",
      "10 20 30\n",
      "c1=<__main__.c1 instance at 0x0000000006DBBB88>,c2=20\n"
     ]
    }
   ],
   "source": [
    "class c1: \n",
    "    print \"this is class\"\n",
    "    a=10\n",
    "    b=20\n",
    "    c=30\n",
    "    def fun(c1,c2):\n",
    "        print \"c1=%s,c2=%s\"%(c1,c2)\n",
    "print c1.a,c1.b,c1.c\n",
    "o1=c1()\n",
    "c1.fun(o1,20)\n",
    "print o1.a,o1.b,o1.c\n",
    "o1.fun(20)"
   ]
  },
  {
   "cell_type": "code",
   "execution_count": 28,
   "metadata": {},
   "outputs": [
    {
     "name": "stdout",
     "output_type": "stream",
     "text": [
      "this is class\n",
      "10 20 30\n",
      "c1=<__main__.c1 instance at 0x0000000006DBB688>,c2=20\n",
      "10 20 30\n",
      "c1=<__main__.c1 instance at 0x0000000006DBB688>,c2=20\n"
     ]
    }
   ],
   "source": [
    "class c1: \n",
    "    print \"this is class\"\n",
    "    a=10\n",
    "    b=20\n",
    "    c=30\n",
    "    def fun(c1,c2):\n",
    "        print \"c1=%s,c2=%s\"%(c1,c2)\n",
    "print c1.a,c1.b,c1.c\n",
    "o1=c1()\n",
    "c1.fun(o1,20)\n",
    "print o1.a,o1.b,o1.c\n",
    "c1.fun(o1,20)"
   ]
  },
  {
   "cell_type": "code",
   "execution_count": 30,
   "metadata": {},
   "outputs": [
    {
     "name": "stdout",
     "output_type": "stream",
     "text": [
      "20\n"
     ]
    }
   ],
   "source": [
    "class Sch:\n",
    "    def get(s1):\n",
    "        print s1.leaves\n",
    "ankit= Sch()\n",
    "ankit.leaves=20\n",
    "ankit.attend=200\n",
    "ankit.dob=\"17/06/980\"\n",
    "rahul= Sch()\n",
    "rahul.leaves=15\n",
    "rahul.attend=205\n",
    "rahul.dob=\"09/06/95\"\n",
    "Sch.get(ankit)\n"
   ]
  },
  {
   "cell_type": "code",
   "execution_count": 1,
   "metadata": {},
   "outputs": [
    {
     "ename": "SyntaxError",
     "evalue": "invalid syntax (<ipython-input-1-ac28fbc0236a>, line 2)",
     "output_type": "error",
     "traceback": [
      "\u001b[1;36m  File \u001b[1;32m\"<ipython-input-1-ac28fbc0236a>\"\u001b[1;36m, line \u001b[1;32m2\u001b[0m\n\u001b[1;33m    def (self,name1,age1):\u001b[0m\n\u001b[1;37m        ^\u001b[0m\n\u001b[1;31mSyntaxError\u001b[0m\u001b[1;31m:\u001b[0m invalid syntax\n"
     ]
    }
   ],
   "source": [
    "class Emp:\n",
    "    def (self,name1,age1):\n",
    "        pass\n",
    "    def get(a1):\n",
    "        print a1.name,a1.age\n",
    "ankit= Emp()\n",
    "n=raw_input(\"enter name\")\n",
    "a=raw_input(\"enter age\")"
   ]
  },
  {
   "cell_type": "code",
   "execution_count": null,
   "metadata": {
    "collapsed": true
   },
   "outputs": [],
   "source": [
    "class emp:\n",
    "    def__init__(self,name,age,sal,hike):\n",
    "        self.name=name\n",
    "        self.age=age\n",
    "        self.sal=sal\n",
    "        self.__hike=hike\n",
    "    def get(self):\n",
    "        return self.name, self.age, selfb  \n",
    "        "
   ]
  }
 ],
 "metadata": {
  "kernelspec": {
   "display_name": "Python 2",
   "language": "python",
   "name": "python2"
  },
  "language_info": {
   "codemirror_mode": {
    "name": "ipython",
    "version": 2
   },
   "file_extension": ".py",
   "mimetype": "text/x-python",
   "name": "python",
   "nbconvert_exporter": "python",
   "pygments_lexer": "ipython2",
   "version": "2.7.14"
  }
 },
 "nbformat": 4,
 "nbformat_minor": 2
}
