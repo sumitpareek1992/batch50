{
 "cells": [
  {
   "cell_type": "code",
   "execution_count": 1,
   "metadata": {},
   "outputs": [
    {
     "name": "stdout",
     "output_type": "stream",
     "text": [
      "enter value2\n",
      "enter value2\n",
      "enter value2\n",
      "enter value2\n",
      "16\n",
      "16\n"
     ]
    }
   ],
   "source": [
    "a=int(raw_input(\"enter value\"))\n",
    "b=int(raw_input(\"enter value\"))\n",
    "c=int(raw_input(\"enter value\"))\n",
    "d=int(raw_input(\"enter value\"))\n",
    "s=a**2+b**2+2*a*b\n",
    "u=c**2+d**2+2*c*d\n",
    "print s\n",
    "print u"
   ]
  },
  {
   "cell_type": "code",
   "execution_count": null,
   "metadata": {
    "collapsed": true
   },
   "outputs": [],
   "source": [
    "Foreignheat=int(raw_input(\"enter temp in Foreign heat:\"))\n",
    "celsius=(Foreignheat*5.0/9)-32\n",
    "print \"temperture\"+str(celsius),\"C\""
   ]
  },
  {
   "cell_type": "code",
   "execution_count": 6,
   "metadata": {},
   "outputs": [
    {
     "name": "stdout",
     "output_type": "stream",
     "text": [
      "enter temp in celsius:21\n",
      "Temperture = 69.8 F\n"
     ]
    }
   ],
   "source": [
    "celsius=int(raw_input(\"enter temp in celsius:\"))\n",
    "Foreignheat=(celsius*9.0/5.0)+32\n",
    "print \"Temperture\",'=',Foreignheat,\"F\""
   ]
  },
  {
   "cell_type": "code",
   "execution_count": 19,
   "metadata": {},
   "outputs": [
    {
     "name": "stdout",
     "output_type": "stream",
     "text": [
      "enter the value of a:4\n",
      "enter the value of b:5\n",
      "enter the value of c:6\n",
      "enter the value of d:7\n",
      "ans= 5.5\n"
     ]
    }
   ],
   "source": [
    "# avg of 4 numbers\n",
    "a=int(raw_input(\"enter the value of a:\"))\n",
    "b=int(raw_input(\"enter the value of b:\"))\n",
    "c=int(raw_input(\"enter the value of c:\"))\n",
    "d=int(raw_input(\"enter the value of d:\"))\n",
    "avg=(a+b+c+d)/4.0\n",
    "print \"ans=\",avg"
   ]
  },
  {
   "cell_type": "code",
   "execution_count": 22,
   "metadata": {},
   "outputs": [
    {
     "name": "stdout",
     "output_type": "stream",
     "text": [
      "enter the value of a:10\n",
      "enter the value of b:20\n",
      "enter the value of c:30\n",
      "enter the value of d:40\n",
      "sum,= 100\n"
     ]
    }
   ],
   "source": [
    "# sum of 4 number\n",
    "a=int(raw_input(\"enter the value of a:\"))\n",
    "b=int(raw_input(\"enter the value of b:\"))\n",
    "c=int(raw_input(\"enter the value of c:\"))\n",
    "d=int(raw_input(\"enter the value of d:\"))\n",
    "sum=a+b+c+d\n",
    "print \"sum,=\",sum"
   ]
  },
  {
   "cell_type": "code",
   "execution_count": 23,
   "metadata": {},
   "outputs": [
    {
     "name": "stdout",
     "output_type": "stream",
     "text": [
      "enter the value of a:10\n",
      "enter the value of b:20\n",
      "enter the value of c:30\n",
      "enter the value of d:40\n",
      "sum= 100\n"
     ]
    }
   ],
   "source": [
    "# sum of 4 number\n",
    "a=int(raw_input(\"enter the value of a:\"))\n",
    "b=int(raw_input(\"enter the value of b:\"))\n",
    "c=int(raw_input(\"enter the value of c:\"))\n",
    "d=int(raw_input(\"enter the value of d:\"))\n",
    "print \"sum=\",sum"
   ]
  },
  {
   "cell_type": "code",
   "execution_count": null,
   "metadata": {
    "collapsed": true,
    "scrolled": true
   },
   "outputs": [],
   "source": [
    "# conver distance from km into mtr,cm,mm,feeter:\"))\n",
    "kilometer=float(raw_input(\"enter the value in kilometer:\"))\n",
    "mtr=(kilometer)*1000\n",
    "cm=(mtr)*100\n",
    "mm=(cm)*10\n",
    "kilometer=float(raw_input(\"enter the value in kilomet\n",
    "feet=(cm)*2.54\n",
    "print \"mtr:%s,cm:%s,mm:%s,feet:%s\"%(mtr,cm,mm,feet)\n"
   ]
  },
  {
   "cell_type": "code",
   "execution_count": 32,
   "metadata": {},
   "outputs": [
    {
     "name": "stdout",
     "output_type": "stream",
     "text": [
      "sdfs\n",
      "bcsdbc\n"
     ]
    }
   ],
   "source": [
    "print \"sdfs\\nbcsdbc\""
   ]
  },
  {
   "cell_type": "code",
   "execution_count": 41,
   "metadata": {},
   "outputs": [
    {
     "name": "stdout",
     "output_type": "stream",
     "text": [
      "enter the value in kilometer:2\n",
      "Mtr: 2000.0\n",
      "cm: 200000.0\n",
      "mm: 2000000.0\n",
      "feet: 508000.0\n"
     ]
    }
   ],
   "source": [
    "# conver distance from km into mtr,cm,mm,feet\n",
    "kilometer=float(raw_input(\"enter the value in kilometer:\"))\n",
    "Mtr=kilometer*1000.0\n",
    "cm=Mtr*100.0\n",
    "mm=cm*10.0\n",
    "feet=cm*2.54\n",
    "print \"Mtr:\",Mtr\n",
    "print \"cm:\",cm\n",
    "print \"mm:\",mm\n",
    "print \"feet:\",feet"
   ]
  },
  {
   "cell_type": "code",
   "execution_count": 43,
   "metadata": {},
   "outputs": [
    {
     "name": "stdout",
     "output_type": "stream",
     "text": [
      "enter the value in GB500\n",
      "MB: 512000.0\n",
      "KB: 524288000.0\n",
      "TB: 0.48828125\n"
     ]
    }
   ],
   "source": [
    "# take size in GB convert into MB,KB,TB\n",
    "GB=float(raw_input(\"enter the value in GB\"))\n",
    "MB=GB*1024\n",
    "KB=MB*1024\n",
    "TB=GB/1024.0\n",
    "print \"MB:\",MB\n",
    "print \"KB:\",KB\n",
    "print \"TB:\",TB"
   ]
  },
  {
   "cell_type": "code",
   "execution_count": 13,
   "metadata": {},
   "outputs": [
    {
     "name": "stdout",
     "output_type": "stream",
     "text": [
      "enter no of person:400\n",
      "enter no of seats in one bus:60\n",
      "required buses: 6\n"
     ]
    }
   ],
   "source": [
    "# Take the input from user for(total no of people,no of seats for persons) decide how many buses required\n",
    "person=int(raw_input(\"enter no of person:\"))\n",
    "seats=int(raw_input(\"enter no of seats in one bus:\"))\n",
    "buses=person/seats\n",
    "print \"required buses:\",buses\n"
   ]
  },
  {
   "cell_type": "code",
   "execution_count": 18,
   "metadata": {},
   "outputs": [
    {
     "name": "stdout",
     "output_type": "stream",
     "text": [
      "enter value of weight:65.5\n",
      "enter the value of height in feet:5.5\n",
      "BMI: 1.6764\n"
     ]
    }
   ],
   "source": [
    "# calculation of BMI\n",
    "weight=float(raw_input(\"enter value of weight:\"))\n",
    "height=float(raw_input(\"enter the value of height in feet:\"))\n",
    "heightmtr=height*(12*2.54)/100\n",
    "BMI=weight**2+heightmtr**2\n",
    "print \"BMI:\",heightmtr"
   ]
  },
  {
   "cell_type": "code",
   "execution_count": 39,
   "metadata": {},
   "outputs": [
    {
     "name": "stdout",
     "output_type": "stream",
     "text": [
      "enter an number5\n",
      "number is odd\n"
     ]
    }
   ],
   "source": [
    "# check number is even or odd\n",
    "number=int(raw_input(\"enter an number\"))\n",
    "formula=number/2.0\n",
    "if formula==int(formula):\n",
    "    print \"number is even\"\n",
    "else:\n",
    "    print \"number is odd\""
   ]
  },
  {
   "cell_type": "code",
   "execution_count": 3,
   "metadata": {},
   "outputs": [
    {
     "name": "stdout",
     "output_type": "stream",
     "text": [
      "enter an number0\n",
      "number is 0\n"
     ]
    }
   ],
   "source": [
    "# check the number is positive or negative\n",
    "num=float(raw_input(\"enter an number\"))\n",
    "if num<0:\n",
    "    print \"number is negative\"\n",
    "elif num==0:\n",
    "    print \"number is 0\"\n",
    "else:\n",
    "    print \"number is positive\""
   ]
  },
  {
   "cell_type": "code",
   "execution_count": 65,
   "metadata": {},
   "outputs": [
    {
     "name": "stdout",
     "output_type": "stream",
     "text": [
      "write a word:\n",
      "plz enter a valid number\n"
     ]
    }
   ],
   "source": [
    "# take a strin from user and find lenght,if len is 0 then show an error\n",
    "num=raw_input(\"write a word:\")\n",
    "if len(num)>0:\n",
    "    print len(num)\n",
    "else:\n",
    "     print (\"plz enter a valid number\")"
   ]
  },
  {
   "cell_type": "code",
   "execution_count": 76,
   "metadata": {},
   "outputs": [
    {
     "name": "stdout",
     "output_type": "stream",
     "text": [
      "show the menu:\n",
      "1:kid's\n",
      "2:men's\n",
      "3:woman\n",
      "enter an option:4\n",
      "plz enter a valid option\n"
     ]
    }
   ],
   "source": [
    "print \"show the menu:\\n1:kid's\\n2:men's\\n3:woman\"\n",
    "opt=raw_input(\"enter an option:\")\n",
    "if opt==\"1\":\n",
    "    print \"kid's\"\n",
    "elif opt==\"2\":\n",
    "    print \"men's\"\n",
    "elif opt==\"3\":\n",
    "    print \"woman's\"\n",
    "else :\n",
    "    print \"plz enter a valid option\"\n",
    "    "
   ]
  },
  {
   "cell_type": "code",
   "execution_count": 78,
   "metadata": {},
   "outputs": [
    {
     "name": "stdout",
     "output_type": "stream",
     "text": [
      "enter a number10\n",
      "enter a number20\n",
      "enter a number30\n",
      "c is big\n"
     ]
    }
   ],
   "source": [
    "# take three no from user , decide which is big\n",
    "a=float(raw_input(\"enter a number\"))\n",
    "b=float(raw_input(\"enter a number\"))\n",
    "c=float(raw_input(\"enter a number\"))\n",
    "if a>b and a>c:\n",
    "    print \"a is big\"\n",
    "elif b>a and b>c:\n",
    "    print \"b is big\"\n",
    "else :\n",
    "    print \"c is big\""
   ]
  },
  {
   "cell_type": "code",
   "execution_count": null,
   "metadata": {
    "collapsed": true
   },
   "outputs": [],
   "source": [
    "# take gender and age from user and mention that what he\\she can do in india\n",
    "print \"option are:\\n1:theatre age(7 for men and 5 for women)\\n2:marriage age(21 for men and 18 for women)\\n3:voting age(18 for all)\\n4:govt job app age(min;18& max:32 for all)\\n5:drivind age(18 for all)\"\n",
    "print \"gender are:\\n1:male\\n2:female\"\n",
    "gender=raw_input(\"enter your gender:\")\n",
    "if gender==1 and age\n",
    "\n",
    "    "
   ]
  },
  {
   "cell_type": "code",
   "execution_count": 7,
   "metadata": {},
   "outputs": [
    {
     "name": "stdout",
     "output_type": "stream",
     "text": [
      "enter value of a10\n",
      "enter value of b2\n",
      "a is not divisible by b\n"
     ]
    }
   ],
   "source": [
    "# take two no from user a and b check whether a is divisible by b or not\n",
    "a=float(raw_input(\"enter value of a:\"))\n",
    "b=float(raw_input(\"enter value of b:\"))\n",
    "c=a/b\n",
    "if a/b==int(c):\n",
    "    print \"a is divisible by b\"\n",
    "else :\n",
    "    print \"a is not divisible by b\"\n",
    "    "
   ]
  },
  {
   "cell_type": "code",
   "execution_count": 18,
   "metadata": {},
   "outputs": [
    {
     "ename": "IndentationError",
     "evalue": "unexpected indent (<ipython-input-18-981c8bf64e48>, line 9)",
     "output_type": "error",
     "traceback": [
      "\u001b[1;36m  File \u001b[1;32m\"<ipython-input-18-981c8bf64e48>\"\u001b[1;36m, line \u001b[1;32m9\u001b[0m\n\u001b[1;33m    break\u001b[0m\n\u001b[1;37m    ^\u001b[0m\n\u001b[1;31mIndentationError\u001b[0m\u001b[1;31m:\u001b[0m unexpected indent\n"
     ]
    }
   ],
   "source": [
    "num = int(input(\"Enter a number: \"))\n",
    "\n",
    "# prime numbers are greater than 1\n",
    "if num > 1:\n",
    "   # check for factors\n",
    "   for i in range(2,num):\n",
    "       if (num % i) == 0:\n",
    "           print(num,\"is not a prime number\")\n",
    "        break \n",
    "           \n",
    "   else:\n",
    "       print(num,\"is a prime number\")"
   ]
  },
  {
   "cell_type": "raw",
   "metadata": {},
   "source": []
  },
  {
   "cell_type": "code",
   "execution_count": null,
   "metadata": {
    "collapsed": true
   },
   "outputs": [],
   "source": []
  },
  {
   "cell_type": "code",
   "execution_count": null,
   "metadata": {
    "collapsed": true
   },
   "outputs": [],
   "source": []
  }
 ],
 "metadata": {
  "kernelspec": {
   "display_name": "Python 2",
   "language": "python",
   "name": "python2"
  },
  "language_info": {
   "codemirror_mode": {
    "name": "ipython",
    "version": 2
   },
   "file_extension": ".py",
   "mimetype": "text/x-python",
   "name": "python",
   "nbconvert_exporter": "python",
   "pygments_lexer": "ipython2",
   "version": "2.7.14"
  }
 },
 "nbformat": 4,
 "nbformat_minor": 2
}
